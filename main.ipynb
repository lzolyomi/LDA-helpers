{
 "cells": [
  {
   "cell_type": "markdown",
   "metadata": {},
   "source": [
    "## Main notebook for calculations\n",
    "\n",
    "This notebook only uses the functions in `utils.py` to solve exercises. Experimental stuff is in `calculations.ipynb`"
   ]
  },
  {
   "cell_type": "code",
   "execution_count": 1,
   "metadata": {},
   "outputs": [],
   "source": [
    "import numpy as np \n",
    "from utils import *"
   ]
  },
  {
   "cell_type": "code",
   "execution_count": 2,
   "metadata": {},
   "outputs": [
    {
     "name": "stdout",
     "output_type": "stream",
     "text": [
      "*** ICC = 0.1972 ***\n",
      "*** Confidence interval: 0.1614 - 0.2408 ***\n",
      "*** Total Variability: 39.38 ***\n",
      "*** Confidence interval 37.12 - 41.85 ***\n"
     ]
    }
   ],
   "source": [
    "###################\n",
    "### Exercise A3 ###\n",
    "###################\n",
    "\n",
    "Sigma_g, Sigma_e = 7.765, 31.613\n",
    "MS_b = 172.899\n",
    "MS_w = 31.614\n",
    "df_b = 196\n",
    "df_w = 3390\n",
    "c_n = 18.193\n",
    "\n",
    "icc(Sigma_g, Sigma_e)\n",
    "confidence_interval_icc(MS_b, MS_w, df_b, df_w, c_n)\n",
    "sum_of_var(Sigma_g, Sigma_e, MS_b, MS_w, c_n, df_b, df_w)"
   ]
  },
  {
   "cell_type": "code",
   "execution_count": 3,
   "metadata": {},
   "outputs": [
    {
     "name": "stdout",
     "output_type": "stream",
     "text": [
      "*** ICC = 0.1990 ***\n",
      "*** ICC = 0.1990 with CI: 0.1596 - 0.2398 ***\n",
      "*** Total variance = 39.473 CI: 37.1707 - 41.9971\n"
     ]
    }
   ],
   "source": [
    "###################\n",
    "### Exercise A5 ###\n",
    "###################\n",
    "\n",
    "Sigma_g = [7.8554]\n",
    "Sigma_e = [31.6176]\n",
    "\n",
    "Covs = [0.9896, 0.5895, 2*-0.03431]\n",
    "general_approach_icc(Sigma_g, Sigma_e, [Covs[0]], [Covs[1]])\n",
    "general_approach_total_variance(Sigma_g, Sigma_e, Covs)\n"
   ]
  },
  {
   "cell_type": "code",
   "execution_count": 4,
   "metadata": {},
   "outputs": [
    {
     "name": "stdout",
     "output_type": "stream",
     "text": [
      "*** ICC = 0.2000 ***\n",
      "*** ICC = 0.2000 with CI: 0.1604 - 0.2410 ***\n",
      "*** Total variance = 39.5236 CI: 37.2138 - 42.0564\n"
     ]
    }
   ],
   "source": [
    "###################\n",
    "### Exercise A6 ###\n",
    "###################\n",
    "\n",
    "Sigma_g = 7.9061\n",
    "Sigma_e = 31.6175\n",
    "var_g = 1.005\n",
    "var_e = 0.5896\n",
    "cov_g_e = -0.03696\n",
    "\n",
    "general_approach_icc([Sigma_g], [Sigma_e], [var_g], [var_e])\n",
    "general_approach_total_variance([Sigma_g], [Sigma_e], [var_g, var_e, 2*cov_g_e])"
   ]
  },
  {
   "cell_type": "code",
   "execution_count": 5,
   "metadata": {},
   "outputs": [
    {
     "name": "stdout",
     "output_type": "stream",
     "text": [
      "*** ICC = 0.1874 ***\n",
      "*** Confidence interval: 0.1517 - 0.2313 ***\n",
      "*** Total Variability: 39.08 ***\n",
      "*** Confidence interval 36.83 - 41.55 ***\n"
     ]
    }
   ],
   "source": [
    "###################\n",
    "### Exercise A7 ###\n",
    "###################\n",
    "\n",
    "Sigma_g = 7.3243\n",
    "Sigma_e = 31.7593\n",
    "\n",
    "MS_b = 165.448\n",
    "MS_w = 31.759 \n",
    "df_b = 185\n",
    "df_w = 3227\n",
    "c_n = 18.253\n",
    "\n",
    "icc(Sigma_g, Sigma_e)\n",
    "confidence_interval_icc(MS_b, MS_w, df_b, df_w, c_n)\n",
    "sum_of_var(Sigma_g, Sigma_e, MS_b, MS_w, c_n, df_b, df_w)\n"
   ]
  },
  {
   "cell_type": "code",
   "execution_count": 20,
   "metadata": {},
   "outputs": [
    {
     "name": "stdout",
     "output_type": "stream",
     "text": [
      "*** P-value from Chi-Square: 0.2943 *** \n",
      " *** If below 0.05, reject null hypothesis ***\n"
     ]
    }
   ],
   "source": [
    "### Likelihood ratio test\n",
    "theta_0 = 21793.84\n",
    "theta = 21792.74\n",
    "df = 1\n",
    "likelihood_ratio_test(theta, theta_0, df)"
   ]
  },
  {
   "cell_type": "code",
   "execution_count": 30,
   "metadata": {},
   "outputs": [
    {
     "name": "stdout",
     "output_type": "stream",
     "text": [
      "*** ICC = 0.1914 ***\n",
      "*** ICC = 0.1914 with CI: 0.1514 - 0.2330 ***\n",
      "*** Total variance = 38.9416 CI: 36.6867 - 41.4121\n"
     ]
    }
   ],
   "source": [
    "###################\n",
    "### Exercise A8 ###\n",
    "###################\n",
    "\n",
    "Sigma_g = 7.4530\n",
    "Sigma_gc = 0.580\n",
    "Sigma_e = 30.9086\n",
    "\n",
    "Var_g = [0.9804, 0.1756, 2*-0.08665]\n",
    "Var_e = [0.5949]\n",
    "Cov_g_e = [2*-0.00268, 2*-0.06211]\n",
    "\n",
    "\n",
    "general_approach_icc([Sigma_g], [Sigma_e, Sigma_gc], Var_g, Var_e)\n",
    "general_approach_total_variance([Sigma_g, Sigma_gc], [Sigma_e], Var_g + Var_e + Cov_g_e)"
   ]
  }
 ],
 "metadata": {
  "kernelspec": {
   "display_name": "Python 3.10.6 ('torch')",
   "language": "python",
   "name": "python3"
  },
  "language_info": {
   "codemirror_mode": {
    "name": "ipython",
    "version": 3
   },
   "file_extension": ".py",
   "mimetype": "text/x-python",
   "name": "python",
   "nbconvert_exporter": "python",
   "pygments_lexer": "ipython3",
   "version": "3.10.6"
  },
  "orig_nbformat": 4,
  "vscode": {
   "interpreter": {
    "hash": "e1315e6714f2518a6216a6eec3b047587d10875bf19b853b35d3e5c84c569e2a"
   }
  }
 },
 "nbformat": 4,
 "nbformat_minor": 2
}
