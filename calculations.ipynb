{
 "cells": [
  {
   "cell_type": "code",
   "execution_count": 34,
   "metadata": {},
   "outputs": [
    {
     "name": "stdout",
     "output_type": "stream",
     "text": [
      "*** ICC = 0.6001 ***\n"
     ]
    },
    {
     "data": {
      "text/plain": [
       "0.6001149138524113"
      ]
     },
     "execution_count": 34,
     "metadata": {},
     "output_type": "execute_result"
    }
   ],
   "source": [
    "import numpy as np\n",
    "#####################################\n",
    "### Functions for ICC calculation ###\n",
    "#####################################\n",
    "\n",
    "def icc(g, e):\n",
    "    \"\"\"Calculates IntraClass Correlation\n",
    "\n",
    "    Args:\n",
    "        g (float): Sigma^2_g estimated variance for random effect(s)\n",
    "        e (float): Sigma^2_e estimated variance for residual\n",
    "\n",
    "    Returns:\n",
    "        float: ICC\n",
    "    \"\"\"\n",
    "    ICC = g/(e+g)\n",
    "    print(f\"*** ICC = {ICC:.4f} ***\")\n",
    "    return ICC\n",
    "\n",
    "sigma_g = 15.8758 # group variance(s), if multiple, add up to single float \n",
    "sigma_e = 10.5788 # residual variance\n",
    "icc(sigma_g, sigma_e)"
   ]
  },
  {
   "cell_type": "code",
   "execution_count": 36,
   "metadata": {},
   "outputs": [
    {
     "name": "stdout",
     "output_type": "stream",
     "text": [
      "*** Confidence interval: 0.5361 - 0.6568 ***\n"
     ]
    }
   ],
   "source": [
    "###########################################################\n",
    "#### Function to calculate confidence interval for ICC ####\n",
    "###########################################################\n",
    "from scipy.stats import f\n",
    "def confidence_interval_icc(MS_b, MS_w, df_b, df_w, n, alpha=0.05):\n",
    "    \"\"\"Calculate confidence intervals for ICC\n",
    "\n",
    "    Args:\n",
    "        MS_b (float): Mean Squares between (random effect in ANOVA table)\n",
    "        MS_w (float): Mean Squares within (residual in ANOVA table)\n",
    "        df_b (int): ANOVA table degrees of freedom, random effects\n",
    "        df_w (int): ANOVA table degrees of freedom, residual\n",
    "        n (float): Constant in ANOVA table, expected mean squares\n",
    "        alpha (float, optional): CI, usually 95%. Defaults to 0.05.\n",
    "    \"\"\"\n",
    "    F = MS_b/MS_w \n",
    "    F_u = f.ppf(1-alpha/2, dfn=df_b, dfd=df_w)\n",
    "    F_l = f.ppf(alpha/2, dfn=df_b, dfd=df_w)\n",
    "    lower = (F/F_u - 1)/(F/F_u + n - 1)\n",
    "    upper = (F/F_l - 1)/(F/F_l + n - 1)\n",
    "    print(f\"*** Confidence interval: {lower:.4f} - {upper:.4f} ***\")\n",
    "\n",
    "\n",
    "MS_b = 40.43722  ## Mean Squares between groups (random effects in anova table)\n",
    "MS_w = 10.57878  ## Mean squares within group (residual in anova table)\n",
    "c_n = 1.8808 # constant in anova table, expected mean squares\n",
    "DF_b = 478 # anova table, random effect(s)\n",
    "DF_w = 421 # anova table, residual\n",
    "\n",
    "confidence_interval_icc(MS_b, MS_w, DF_b, DF_w, c_n)"
   ]
  },
  {
   "cell_type": "code",
   "execution_count": 42,
   "metadata": {},
   "outputs": [
    {
     "name": "stdout",
     "output_type": "stream",
     "text": [
      "*** P-value from Chi-Square: 0.0195 *** \n",
      " *** If below 0.05, reject null hypothesis ***\n"
     ]
    }
   ],
   "source": [
    "###############################\n",
    "#### Likelihood Ratio Test ####\n",
    "###############################\n",
    "from logging import warning\n",
    "from scipy.stats import chi2\n",
    "\n",
    "def likelihood_ratio_test(theta, theta_0, df):\n",
    "    LRT = theta_0 - theta \n",
    "    p = 1-chi2.cdf(LRT, df)\n",
    "    print(f\"*** P-value from Chi-Square: {p:.4f} *** \\n *** If below 0.05, reject null hypothesis ***\")\n",
    "    if p < 1e-4:\n",
    "        warning(\" P-value extremely low!\")\n",
    "theta_ll = 5359.6 \n",
    "theta_0_ll = 5374.7 \n",
    "diff_params = 6\n",
    "likelihood_ratio_test(theta_ll, theta_0_ll, diff_params)\n"
   ]
  },
  {
   "cell_type": "code",
   "execution_count": 43,
   "metadata": {},
   "outputs": [
    {
     "name": "stderr",
     "output_type": "stream",
     "text": [
      "WARNING:root: P-value extremely low!\n"
     ]
    },
    {
     "name": "stdout",
     "output_type": "stream",
     "text": [
      "*** P-value from Chi-Square: 0.0000 *** \n",
      " *** If below 0.05, reject null hypothesis ***\n"
     ]
    }
   ],
   "source": [
    "#### Model fitting, check for covariance structure\n",
    "theta_ll = 29097.6\n",
    "theta_0_ll = 29136.8 \n",
    "diff_params = 1\n",
    "likelihood_ratio_test(theta_ll, theta_0_ll, diff_params)"
   ]
  },
  {
   "cell_type": "code",
   "execution_count": 46,
   "metadata": {},
   "outputs": [
    {
     "name": "stdout",
     "output_type": "stream",
     "text": [
      "*** P-value from Chi-Square: 0.2542 *** \n",
      " *** If below 0.05, reject null hypothesis ***\n"
     ]
    }
   ],
   "source": [
    "### Model selection: Fixed effects, using ML estimation!\n",
    "theta_ll = 29062.8\n",
    "theta_0_ll = 29064.1\n",
    "diff_params = 1\n",
    "likelihood_ratio_test(theta_ll, theta_0_ll, diff_params)"
   ]
  },
  {
   "cell_type": "code",
   "execution_count": 22,
   "metadata": {},
   "outputs": [],
   "source": [
    "#############################################\n",
    "#### Minimize variance for time profiles ####\n",
    "#############################################\n",
    "\n",
    "def minimze_variability(tau_0, tau_1, off_diag, s2_r):\n",
    "    rho = off_diag/(np.sqrt(tau_0)*np.sqrt(tau_1))\n",
    "    min_var = (1-rho**2)*tau_0 + s2_r \n",
    "    min_t = -rho*np.sqrt(tau_0)/np.sqrt(tau_1)\n",
    "    print(f\"*** Minimum variance: {min_var:.3f} *** \\n*** Minimum variance achieved at time point {min_t:.3f} ***\")"
   ]
  },
  {
   "cell_type": "code",
   "execution_count": 24,
   "metadata": {},
   "outputs": [
    {
     "name": "stdout",
     "output_type": "stream",
     "text": [
      "*** Minimum variance: 113.733 *** \n",
      "*** Minimum variance achieved at time point -3.497 ***\n"
     ]
    }
   ],
   "source": [
    "### Mock exam exercise 3b\n",
    "t2_0 = 89.7452 # tau0^2\n",
    "t2_1 = 0.4232 # tau1^2\n",
    "off_diag = 1.4801 # off-diagonal value\n",
    "s2_r = 29.1645 # sigma_r^2\n",
    "minimze_variability(t2_0, t2_1, off_diag, s2_r)"
   ]
  },
  {
   "cell_type": "code",
   "execution_count": 30,
   "metadata": {},
   "outputs": [
    {
     "data": {
      "text/plain": [
       "(1.6448536269514722, 1.6454279692291978)"
      ]
     },
     "execution_count": 30,
     "metadata": {},
     "output_type": "execute_result"
    }
   ],
   "source": [
    "### T-distribution with high degrees of freedom = normal effect\n",
    "from scipy.stats import norm, t \n",
    "norm.ppf(0.95), t.ppf(0.95, 2654)"
   ]
  },
  {
   "cell_type": "markdown",
   "metadata": {},
   "source": [
    "# Exercises\n",
    "\n",
    "### Exercise 3"
   ]
  },
  {
   "cell_type": "code",
   "execution_count": 37,
   "metadata": {},
   "outputs": [
    {
     "name": "stdout",
     "output_type": "stream",
     "text": [
      "*** ICC = 0.1972 ***\n",
      "*** Confidence interval: 0.1614 - 0.2408 ***\n"
     ]
    }
   ],
   "source": [
    "## Exercise A3\n",
    "Sigma_g, Sigma_e = 7.765, 31.613\n",
    "MS_b = 172.899\n",
    "MS_w = 31.614\n",
    "df_b = 196\n",
    "df_w = 3390\n",
    "c_n = 18.193\n",
    "\n",
    "icc(Sigma_g, Sigma_e)\n",
    "confidence_interval_icc(MS_b, MS_w, df_b, df_w, c_n)\n"
   ]
  },
  {
   "cell_type": "code",
   "execution_count": 52,
   "metadata": {},
   "outputs": [],
   "source": [
    "#########################################\n",
    "#### Sum of Variance components + CI ####\n",
    "#########################################\n",
    "from scipy.stats import chi2\n",
    "\n",
    "def sum_of_var(Sigma_g, Sigma_e, MS_b, MS_w, cn, df_b, df_w, alpha=0.05):\n",
    "    \"\"\"Calculate total variance and confidence intervals\n",
    "\n",
    "    Args:\n",
    "        Sigma_g (float): VC for between group variance\n",
    "        Sigma_e (float): VC for within group variance (residual)\n",
    "        MS_b (float): Mean Squares between from ANOVA table\n",
    "        MS_w (float): Mean Squares within (residual) from ANOVA table\n",
    "        cn (float): Constant from expected mean squares column\n",
    "        df_b (int): Degrees of freedom between groups from ANOVA table\n",
    "        df_w (int): Degrees of freedom within groups from ANOVA table\n",
    "        alpha (float, optional): Default 95% confidence for intervals. Defaults to 0.05.\n",
    "    \"\"\"\n",
    "    ### Total variance estimate\n",
    "    Sigma_t = Sigma_g + Sigma_e \n",
    "    ### Variance of total variance estimate\n",
    "    V_sigma_t = ((2*MS_b**2)/(cn**2 * df_b)) + ((2*(cn - 1)**2 * MS_w**2)/(cn**2 * df_w))\n",
    "    ### Satterthwaite degrees of freedom\n",
    "    df_t = 2 * ( (Sigma_t**2) / V_sigma_t )\n",
    "    U_chi2 = chi2.ppf((1-alpha/2), df_t)\n",
    "    L_chi2 = chi2.ppf(alpha/2, df_t)\n",
    "    LCL = (df_t*Sigma_t)/(U_chi2)\n",
    "    UCL = (df_t*Sigma_t)/(L_chi2)\n",
    "    print(f\"*** Total Variability: {Sigma_t:.2f} ***\")\n",
    "    print(f\"*** Confidence interval {LCL:.2f} - {UCL:.2f} ***\")    "
   ]
  },
  {
   "cell_type": "code",
   "execution_count": 53,
   "metadata": {},
   "outputs": [
    {
     "name": "stdout",
     "output_type": "stream",
     "text": [
      "*** Total Variability: 39.38 ***\n",
      "*** Confidence interval 37.12 - 41.85 ***\n"
     ]
    }
   ],
   "source": [
    "sum_of_var(Sigma_g, Sigma_e, MS_b, MS_w, c_n, df_b, df_w)"
   ]
  }
 ],
 "metadata": {
  "kernelspec": {
   "display_name": "Python 3.9.10 ('test')",
   "language": "python",
   "name": "python3"
  },
  "language_info": {
   "codemirror_mode": {
    "name": "ipython",
    "version": 3
   },
   "file_extension": ".py",
   "mimetype": "text/x-python",
   "name": "python",
   "nbconvert_exporter": "python",
   "pygments_lexer": "ipython3",
   "version": "3.9.10"
  },
  "orig_nbformat": 4,
  "vscode": {
   "interpreter": {
    "hash": "8625ec09a142717e5a7de880ad953eae88e1d4f4bcd0fca3e4e24c78b74f5f0e"
   }
  }
 },
 "nbformat": 4,
 "nbformat_minor": 2
}
