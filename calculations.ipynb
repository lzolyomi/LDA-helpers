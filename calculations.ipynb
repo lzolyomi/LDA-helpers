{
 "cells": [
  {
   "cell_type": "code",
   "execution_count": 1,
   "metadata": {},
   "outputs": [
    {
     "data": {
      "text/plain": [
       "0.6001149138524113"
      ]
     },
     "execution_count": 1,
     "metadata": {},
     "output_type": "execute_result"
    }
   ],
   "source": [
    "#####################################\n",
    "### Functions for ICC calculation ###\n",
    "#####################################\n",
    "\n",
    "def icc(g, e):\n",
    "    return g/(e+g)\n",
    "\n",
    "sigma_g = 15.8758 # group variance(s), if multiple, add up to single float \n",
    "sigma_e = 10.5788 # residual variance\n",
    "icc(sigma_g, sigma_e)"
   ]
  },
  {
   "cell_type": "code",
   "execution_count": 20,
   "metadata": {},
   "outputs": [
    {
     "name": "stdout",
     "output_type": "stream",
     "text": [
      "### Confidence interval: 0.5361022806935494 - 0.6567782185548849\n"
     ]
    }
   ],
   "source": [
    "###########################################################\n",
    "#### Function to calculate confidence interval for ICC ####\n",
    "###########################################################\n",
    "from scipy.stats import f\n",
    "def confidence_interval_icc(MS_b, MS_w, df_b, df_w, n, alpha=0.05):\n",
    "    F = MS_b/MS_w \n",
    "    F_u = f.ppf(1-alpha/2, dfn=df_b, dfd=df_w)\n",
    "    F_l = f.ppf(alpha/2, dfn=df_b, dfd=df_w)\n",
    "    lower = (F/F_u - 1)/(F/F_u + n - 1)\n",
    "    upper = (F/F_l - 1)/(F/F_l + n - 1)\n",
    "    print(f\"### Confidence interval: {lower} - {upper}\")\n",
    "\n",
    "\n",
    "MS_b = 40.43722  ## Mean Squares between groups (random effects in anova table)\n",
    "MS_w = 10.57878  ## Mean squares within group (residual in anova table)\n",
    "c_n = 1.8808 # constant in anova table, expected mean squares\n",
    "DF_b = 478 # anova table, random effect(s)\n",
    "DF_w = 421 # anova table, residual\n",
    "\n",
    "confidence_interval_icc(MS_b, MS_w, DF_b, DF_w, c_n)"
   ]
  },
  {
   "cell_type": "code",
   "execution_count": 42,
   "metadata": {},
   "outputs": [
    {
     "name": "stdout",
     "output_type": "stream",
     "text": [
      "*** P-value from Chi-Square: 0.0195 *** \n",
      " *** If below 0.05, reject null hypothesis ***\n"
     ]
    }
   ],
   "source": [
    "###############################\n",
    "#### Likelihood Ratio Test ####\n",
    "###############################\n",
    "from logging import warning\n",
    "from scipy.stats import chi2\n",
    "\n",
    "def likelihood_ratio_test(theta, theta_0, df):\n",
    "    LRT = theta_0 - theta \n",
    "    p = 1-chi2.cdf(LRT, df)\n",
    "    print(f\"*** P-value from Chi-Square: {p:.4f} *** \\n *** If below 0.05, reject null hypothesis ***\")\n",
    "    if p < 1e-4:\n",
    "        warning(\" P-value extremely low!\")\n",
    "theta_ll = 5359.6 \n",
    "theta_0_ll = 5374.7 \n",
    "diff_params = 6\n",
    "likelihood_ratio_test(theta_ll, theta_0_ll, diff_params)\n"
   ]
  },
  {
   "cell_type": "code",
   "execution_count": 43,
   "metadata": {},
   "outputs": [
    {
     "name": "stderr",
     "output_type": "stream",
     "text": [
      "WARNING:root: P-value extremely low!\n"
     ]
    },
    {
     "name": "stdout",
     "output_type": "stream",
     "text": [
      "*** P-value from Chi-Square: 0.0000 *** \n",
      " *** If below 0.05, reject null hypothesis ***\n"
     ]
    }
   ],
   "source": [
    "#### Model fitting, check for covariance structure\n",
    "theta_ll = 29097.6\n",
    "theta_0_ll = 29136.8 \n",
    "diff_params = 1\n",
    "likelihood_ratio_test(theta_ll, theta_0_ll, diff_params)"
   ]
  },
  {
   "cell_type": "code",
   "execution_count": 46,
   "metadata": {},
   "outputs": [
    {
     "name": "stdout",
     "output_type": "stream",
     "text": [
      "*** P-value from Chi-Square: 0.2542 *** \n",
      " *** If below 0.05, reject null hypothesis ***\n"
     ]
    }
   ],
   "source": [
    "### Model selection: Fixed effects, using ML estimation!\n",
    "theta_ll = 29062.8\n",
    "theta_0_ll = 29064.1\n",
    "diff_params = 1\n",
    "likelihood_ratio_test(theta_ll, theta_0_ll, diff_params)"
   ]
  },
  {
   "cell_type": "code",
   "execution_count": 1,
   "metadata": {},
   "outputs": [
    {
     "data": {
      "text/plain": [
       "0.1614362322690226"
      ]
     },
     "execution_count": 1,
     "metadata": {},
     "output_type": "execute_result"
    }
   ],
   "source": [
    "# # # # # likelihood ratio test\n",
    "f_value = 5.47\n",
    "c = 1.2149\n",
    "((5.47/1.2149)-1)/((f_value/1.2149) + 18.193 - 1)"
   ]
  },
  {
   "cell_type": "code",
   "execution_count": 2,
   "metadata": {},
   "outputs": [
    {
     "data": {
      "text/plain": [
       "0.24086126570360766"
      ]
     },
     "execution_count": 2,
     "metadata": {},
     "output_type": "execute_result"
    }
   ],
   "source": [
    "## upper\n",
    "((5.47/0.8077)-1)/((5.47/0.8077) + 18.193 - 1)"
   ]
  },
  {
   "cell_type": "markdown",
   "metadata": {},
   "source": [
    "## Exercise A5"
   ]
  },
  {
   "cell_type": "code",
   "execution_count": 2,
   "metadata": {},
   "outputs": [
    {
     "data": {
      "text/plain": [
       "0.19900691611987942"
      ]
     },
     "execution_count": 2,
     "metadata": {},
     "output_type": "execute_result"
    }
   ],
   "source": [
    "s2_g = 7.8554\n",
    "s2_e = 31.6176\n",
    "MS_b = 172.898\n",
    "MS_w = 31.61\n",
    "s2_t = s2_g + s2_e\n",
    "Cn = 18.193\n",
    "m = 197\n",
    "def icc(e,g):\n",
    "    return g/(e + g)\n",
    "icc(s2_e, s2_g)"
   ]
  }
 ],
 "metadata": {
  "kernelspec": {
   "display_name": "Python 3.9.10 ('test')",
   "language": "python",
   "name": "python3"
  },
  "language_info": {
   "codemirror_mode": {
    "name": "ipython",
    "version": 3
   },
   "file_extension": ".py",
   "mimetype": "text/x-python",
   "name": "python",
   "nbconvert_exporter": "python",
   "pygments_lexer": "ipython3",
   "version": "3.9.10"
  },
  "orig_nbformat": 4,
  "vscode": {
   "interpreter": {
    "hash": "8625ec09a142717e5a7de880ad953eae88e1d4f4bcd0fca3e4e24c78b74f5f0e"
   }
  }
 },
 "nbformat": 4,
 "nbformat_minor": 2
}
